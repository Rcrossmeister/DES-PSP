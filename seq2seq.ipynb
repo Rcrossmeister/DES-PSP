{
 "cells": [
  {
   "cell_type": "code",
   "execution_count": 1,
   "metadata": {
    "collapsed": true,
    "ExecuteTime": {
     "end_time": "2023-05-27T12:48:11.268596Z",
     "start_time": "2023-05-27T12:48:04.500136Z"
    }
   },
   "outputs": [
    {
     "data": {
      "text/plain": "                                                Page  2015-07-01  2015-07-02  \\\n0            2NE1_zh.wikipedia.org_all-access_spider        18.0        11.0   \n1             2PM_zh.wikipedia.org_all-access_spider        11.0        14.0   \n2              3C_zh.wikipedia.org_all-access_spider         1.0         0.0   \n3         4minute_zh.wikipedia.org_all-access_spider        35.0        13.0   \n4  52_Hz_I_Love_You_zh.wikipedia.org_all-access_s...         NaN         NaN   \n\n   2015-07-03  2015-07-04  2015-07-05  2015-07-06  2015-07-07  2015-07-08  \\\n0         5.0        13.0        14.0         9.0         9.0        22.0   \n1        15.0        18.0        11.0        13.0        22.0        11.0   \n2         1.0         1.0         0.0         4.0         0.0         3.0   \n3        10.0        94.0         4.0        26.0        14.0         9.0   \n4         NaN         NaN         NaN         NaN         NaN         NaN   \n\n   2015-07-09  ...  2016-12-22  2016-12-23  2016-12-24  2016-12-25  \\\n0        26.0  ...        32.0        63.0        15.0        26.0   \n1        10.0  ...        17.0        42.0        28.0        15.0   \n2         4.0  ...         3.0         1.0         1.0         7.0   \n3        11.0  ...        32.0        10.0        26.0        27.0   \n4         NaN  ...        48.0         9.0        25.0        13.0   \n\n   2016-12-26  2016-12-27  2016-12-28  2016-12-29  2016-12-30  2016-12-31  \n0        14.0        20.0        22.0        19.0        18.0        20.0  \n1         9.0        30.0        52.0        45.0        26.0        20.0  \n2         4.0         4.0         6.0         3.0         4.0        17.0  \n3        16.0        11.0        17.0        19.0        10.0        11.0  \n4         3.0        11.0        27.0        13.0        36.0        10.0  \n\n[5 rows x 551 columns]",
      "text/html": "<div>\n<style scoped>\n    .dataframe tbody tr th:only-of-type {\n        vertical-align: middle;\n    }\n\n    .dataframe tbody tr th {\n        vertical-align: top;\n    }\n\n    .dataframe thead th {\n        text-align: right;\n    }\n</style>\n<table border=\"1\" class=\"dataframe\">\n  <thead>\n    <tr style=\"text-align: right;\">\n      <th></th>\n      <th>Page</th>\n      <th>2015-07-01</th>\n      <th>2015-07-02</th>\n      <th>2015-07-03</th>\n      <th>2015-07-04</th>\n      <th>2015-07-05</th>\n      <th>2015-07-06</th>\n      <th>2015-07-07</th>\n      <th>2015-07-08</th>\n      <th>2015-07-09</th>\n      <th>...</th>\n      <th>2016-12-22</th>\n      <th>2016-12-23</th>\n      <th>2016-12-24</th>\n      <th>2016-12-25</th>\n      <th>2016-12-26</th>\n      <th>2016-12-27</th>\n      <th>2016-12-28</th>\n      <th>2016-12-29</th>\n      <th>2016-12-30</th>\n      <th>2016-12-31</th>\n    </tr>\n  </thead>\n  <tbody>\n    <tr>\n      <th>0</th>\n      <td>2NE1_zh.wikipedia.org_all-access_spider</td>\n      <td>18.0</td>\n      <td>11.0</td>\n      <td>5.0</td>\n      <td>13.0</td>\n      <td>14.0</td>\n      <td>9.0</td>\n      <td>9.0</td>\n      <td>22.0</td>\n      <td>26.0</td>\n      <td>...</td>\n      <td>32.0</td>\n      <td>63.0</td>\n      <td>15.0</td>\n      <td>26.0</td>\n      <td>14.0</td>\n      <td>20.0</td>\n      <td>22.0</td>\n      <td>19.0</td>\n      <td>18.0</td>\n      <td>20.0</td>\n    </tr>\n    <tr>\n      <th>1</th>\n      <td>2PM_zh.wikipedia.org_all-access_spider</td>\n      <td>11.0</td>\n      <td>14.0</td>\n      <td>15.0</td>\n      <td>18.0</td>\n      <td>11.0</td>\n      <td>13.0</td>\n      <td>22.0</td>\n      <td>11.0</td>\n      <td>10.0</td>\n      <td>...</td>\n      <td>17.0</td>\n      <td>42.0</td>\n      <td>28.0</td>\n      <td>15.0</td>\n      <td>9.0</td>\n      <td>30.0</td>\n      <td>52.0</td>\n      <td>45.0</td>\n      <td>26.0</td>\n      <td>20.0</td>\n    </tr>\n    <tr>\n      <th>2</th>\n      <td>3C_zh.wikipedia.org_all-access_spider</td>\n      <td>1.0</td>\n      <td>0.0</td>\n      <td>1.0</td>\n      <td>1.0</td>\n      <td>0.0</td>\n      <td>4.0</td>\n      <td>0.0</td>\n      <td>3.0</td>\n      <td>4.0</td>\n      <td>...</td>\n      <td>3.0</td>\n      <td>1.0</td>\n      <td>1.0</td>\n      <td>7.0</td>\n      <td>4.0</td>\n      <td>4.0</td>\n      <td>6.0</td>\n      <td>3.0</td>\n      <td>4.0</td>\n      <td>17.0</td>\n    </tr>\n    <tr>\n      <th>3</th>\n      <td>4minute_zh.wikipedia.org_all-access_spider</td>\n      <td>35.0</td>\n      <td>13.0</td>\n      <td>10.0</td>\n      <td>94.0</td>\n      <td>4.0</td>\n      <td>26.0</td>\n      <td>14.0</td>\n      <td>9.0</td>\n      <td>11.0</td>\n      <td>...</td>\n      <td>32.0</td>\n      <td>10.0</td>\n      <td>26.0</td>\n      <td>27.0</td>\n      <td>16.0</td>\n      <td>11.0</td>\n      <td>17.0</td>\n      <td>19.0</td>\n      <td>10.0</td>\n      <td>11.0</td>\n    </tr>\n    <tr>\n      <th>4</th>\n      <td>52_Hz_I_Love_You_zh.wikipedia.org_all-access_s...</td>\n      <td>NaN</td>\n      <td>NaN</td>\n      <td>NaN</td>\n      <td>NaN</td>\n      <td>NaN</td>\n      <td>NaN</td>\n      <td>NaN</td>\n      <td>NaN</td>\n      <td>NaN</td>\n      <td>...</td>\n      <td>48.0</td>\n      <td>9.0</td>\n      <td>25.0</td>\n      <td>13.0</td>\n      <td>3.0</td>\n      <td>11.0</td>\n      <td>27.0</td>\n      <td>13.0</td>\n      <td>36.0</td>\n      <td>10.0</td>\n    </tr>\n  </tbody>\n</table>\n<p>5 rows × 551 columns</p>\n</div>"
     },
     "execution_count": 1,
     "metadata": {},
     "output_type": "execute_result"
    }
   ],
   "source": [
    "import pandas as pd\n",
    "import numpy as np\n",
    "import matplotlib.pyplot as plt\n",
    "%matplotlib inline\n",
    "\n",
    "import seaborn as sns\n",
    "sns.set()\n",
    "\n",
    "df = pd.read_csv('/home/hzj/NLP1/StockPricePrediction/2022-11-17/TimeSeries_Seq2Seq-master/data/train_1.csv')\n",
    "df.head()"
   ]
  },
  {
   "cell_type": "code",
   "execution_count": 2,
   "outputs": [
    {
     "name": "stdout",
     "output_type": "stream",
     "text": [
      "<class 'pandas.core.frame.DataFrame'>\n",
      "RangeIndex: 145063 entries, 0 to 145062\n",
      "Columns: 551 entries, Page to 2016-12-31\n",
      "dtypes: float64(550), object(1)\n",
      "memory usage: 609.8+ MB\n"
     ]
    },
    {
     "data": {
      "text/plain": "(145063, 551)"
     },
     "execution_count": 2,
     "metadata": {},
     "output_type": "execute_result"
    }
   ],
   "source": [
    "df.info()\n",
    "df.shape"
   ],
   "metadata": {
    "collapsed": false,
    "ExecuteTime": {
     "end_time": "2023-05-27T12:48:43.688925Z",
     "start_time": "2023-05-27T12:48:43.643276Z"
    }
   }
  },
  {
   "cell_type": "code",
   "execution_count": 3,
   "outputs": [
    {
     "name": "stdout",
     "output_type": "stream",
     "text": [
      "Data ranges from 2015-07-01 to 2016-12-31\n"
     ]
    }
   ],
   "source": [
    "data_start_date = df.columns[1]\n",
    "data_end_date = df.columns[-1]\n",
    "print('Data ranges from %s to %s' % (data_start_date, data_end_date))"
   ],
   "metadata": {
    "collapsed": false,
    "ExecuteTime": {
     "end_time": "2023-05-27T12:49:47.289551Z",
     "start_time": "2023-05-27T12:49:47.282617Z"
    }
   }
  },
  {
   "cell_type": "code",
   "execution_count": 4,
   "outputs": [],
   "source": [
    "from datetime import timedelta\n",
    "\n",
    "pred_steps = 14\n",
    "pred_length=timedelta(pred_steps)\n",
    "# print(data_start_date)\n",
    "first_day = pd.to_datetime(data_start_date)\n",
    "# print(first_day)\n",
    "last_day = pd.to_datetime(data_end_date)\n",
    "\n",
    "val_pred_start = last_day - pred_length + timedelta(1)\n",
    "val_pred_end = last_day\n",
    "\n",
    "train_pred_start = val_pred_start - pred_length\n",
    "train_pred_end = val_pred_start - timedelta(days=1)"
   ],
   "metadata": {
    "collapsed": false,
    "ExecuteTime": {
     "end_time": "2023-05-27T12:50:03.602372Z",
     "start_time": "2023-05-27T12:50:03.559457Z"
    }
   }
  },
  {
   "cell_type": "code",
   "execution_count": 6,
   "outputs": [],
   "source": [
    "enc_length = train_pred_start - first_day\n",
    "train_enc_start = first_day\n",
    "train_enc_end = train_enc_start + enc_length - timedelta(1)\n",
    "val_enc_start = train_enc_start + pred_length\n",
    "val_enc_end = val_enc_start + enc_length - timedelta(1)"
   ],
   "metadata": {
    "collapsed": false,
    "ExecuteTime": {
     "end_time": "2023-05-27T12:52:40.124055Z",
     "start_time": "2023-05-27T12:52:40.113472Z"
    }
   }
  },
  {
   "cell_type": "code",
   "execution_count": 7,
   "outputs": [
    {
     "name": "stdout",
     "output_type": "stream",
     "text": [
      "Train encoding: 2015-07-01 00:00:00 - 2016-12-03 00:00:00\n",
      "Train prediction: 2016-12-04 00:00:00 - 2016-12-17 00:00:00 \n",
      "\n",
      "Val encoding: 2015-07-15 00:00:00 - 2016-12-17 00:00:00\n",
      "Val prediction: 2016-12-18 00:00:00 - 2016-12-31 00:00:00\n",
      "\n",
      "Encoding interval: 522\n",
      "Prediction interval: 14\n"
     ]
    }
   ],
   "source": [
    "print('Train encoding:', train_enc_start, '-', train_enc_end)\n",
    "print('Train prediction:', train_pred_start, '-', train_pred_end, '\\n')\n",
    "print('Val encoding:', val_enc_start, '-', val_enc_end)\n",
    "print('Val prediction:', val_pred_start, '-', val_pred_end)\n",
    "\n",
    "print('\\nEncoding interval:', enc_length.days)\n",
    "print('Prediction interval:', pred_length.days)"
   ],
   "metadata": {
    "collapsed": false,
    "ExecuteTime": {
     "end_time": "2023-05-27T12:52:43.891938Z",
     "start_time": "2023-05-27T12:52:43.887044Z"
    }
   }
  },
  {
   "cell_type": "code",
   "execution_count": 11,
   "outputs": [
    {
     "data": {
      "text/plain": "array([[18., 11.,  5., ..., 19., 18., 20.],\n       [11., 14., 15., ..., 45., 26., 20.],\n       [ 1.,  0.,  1., ...,  3.,  4., 17.],\n       ...,\n       [nan, nan, nan, ..., nan, nan, nan],\n       [nan, nan, nan, ..., nan, nan, nan],\n       [nan, nan, nan, ..., nan, nan, nan]])"
     },
     "execution_count": 11,
     "metadata": {},
     "output_type": "execute_result"
    }
   ],
   "source": [
    "date_to_index = pd.Series(index=pd.Index([pd.to_datetime(c) for c in df.columns[1:]]),\n",
    "                          data=[i for i in range(len(df.columns[1:]))])\n",
    "series_array = df[df.columns[1:]].values\n",
    "series_array"
   ],
   "metadata": {
    "collapsed": false,
    "ExecuteTime": {
     "end_time": "2023-05-27T12:54:41.578703Z",
     "start_time": "2023-05-27T12:54:41.334605Z"
    }
   }
  },
  {
   "cell_type": "code",
   "execution_count": 13,
   "outputs": [],
   "source": [
    "date_to_index = pd.Series(index=pd.Index([pd.to_datetime(c) for c in df.columns[1:]]),\n",
    "                          data=[i for i in range(len(df.columns[1:]))])\n",
    "\n",
    "series_array = df[df.columns[1:]].values\n",
    "\n",
    "def get_time_block_series(series_array, date_to_index, start_date, end_date):\n",
    "\n",
    "    inds = date_to_index[start_date:end_date]\n",
    "    return series_array[:,inds]\n",
    "# get_time_block_series(series_array,date_to_index,start_date)\n",
    "\n",
    "def transform_series_encode(series_array):\n",
    "\n",
    "    series_array = np.log1p(np.nan_to_num(series_array)) # filling NaN with 0\n",
    "    series_mean = series_array.mean(axis=1).reshape(-1,1)\n",
    "    series_array = series_array - series_mean\n",
    "    series_array = series_array.reshape((series_array.shape[0],series_array.shape[1], 1))\n",
    "\n",
    "    return series_array, series_mean\n",
    "\n",
    "def transform_series_decode(series_array, encode_series_mean):\n",
    "\n",
    "    series_array = np.log1p(np.nan_to_num(series_array)) # filling NaN with 0\n",
    "    series_array = series_array - encode_series_mean\n",
    "    series_array = series_array.reshape((series_array.shape[0],series_array.shape[1], 1))\n",
    "\n",
    "    return series_array"
   ],
   "metadata": {
    "collapsed": false,
    "ExecuteTime": {
     "end_time": "2023-05-27T12:58:20.274375Z",
     "start_time": "2023-05-27T12:58:20.150450Z"
    }
   }
  },
  {
   "cell_type": "code",
   "execution_count": 14,
   "outputs": [],
   "source": [
    "first_n_samples = 20000\n",
    "batch_size = 2**11\n",
    "epochs = 100\n",
    "\n",
    "# sample of series from train_enc_start to train_enc_end\n",
    "encoder_input_data = get_time_block_series(series_array, date_to_index,\n",
    "                                           train_enc_start, train_enc_end)[:first_n_samples]\n",
    "encoder_input_data, encode_series_mean = transform_series_encode(encoder_input_data)\n",
    "\n",
    "# sample of series from train_pred_start to train_pred_end\n",
    "decoder_target_data = get_time_block_series(series_array, date_to_index,\n",
    "                                            train_pred_start, train_pred_end)[:first_n_samples]\n",
    "decoder_target_data = transform_series_decode(decoder_target_data, encode_series_mean)\n",
    "\n",
    "# lagged target series for teacher forcing\n",
    "decoder_input_data = np.zeros(decoder_target_data.shape)\n",
    "decoder_input_data[:,1:,0] = decoder_target_data[:,:-1,0]\n",
    "decoder_input_data[:,0,0] = encoder_input_data[:,-1,0]"
   ],
   "metadata": {
    "collapsed": false,
    "ExecuteTime": {
     "end_time": "2023-05-27T12:58:21.490034Z",
     "start_time": "2023-05-27T12:58:20.873182Z"
    }
   }
  },
  {
   "cell_type": "code",
   "execution_count": 15,
   "outputs": [
    {
     "data": {
      "text/plain": "array([[[ 0.08578828],\n        [-0.37374405],\n        [-1.06689123],\n        ...,\n        [-0.1506005 ],\n        [ 1.01255031],\n        [-0.08606198]],\n\n       [[-0.52722845],\n        [-0.3040849 ],\n        [-0.23954638],\n        ...,\n        [-0.12176334],\n        [ 0.16591873],\n        [-0.01640283]],\n\n       [[-0.79408719],\n        [-1.48723437],\n        [-0.79408719],\n        ...,\n        [ 0.7099902 ],\n        [-0.79408719],\n        [-0.79408719]],\n\n       ...,\n\n       [[-0.61283829],\n        [-0.30268336],\n        [-0.37167623],\n        ...,\n        [ 0.18111359],\n        [ 0.15333402],\n        [-0.08399416]],\n\n       [[-0.4447825 ],\n        [-0.23549106],\n        [-0.31125111],\n        ...,\n        [-1.04213862],\n        [-1.071409  ],\n        [-1.34272409]],\n\n       [[-0.38075592],\n        [ 0.01314836],\n        [ 0.18377388],\n        ...,\n        [ 0.52861437],\n        [ 0.48605475],\n        [ 0.20319196]]])"
     },
     "execution_count": 15,
     "metadata": {},
     "output_type": "execute_result"
    }
   ],
   "source": [
    "encoder_input_data"
   ],
   "metadata": {
    "collapsed": false,
    "ExecuteTime": {
     "end_time": "2023-05-27T12:58:22.755705Z",
     "start_time": "2023-05-27T12:58:22.718936Z"
    }
   }
  },
  {
   "cell_type": "code",
   "execution_count": null,
   "outputs": [],
   "source": [],
   "metadata": {
    "collapsed": false
   }
  }
 ],
 "metadata": {
  "kernelspec": {
   "display_name": "Python 3",
   "language": "python",
   "name": "python3"
  },
  "language_info": {
   "codemirror_mode": {
    "name": "ipython",
    "version": 2
   },
   "file_extension": ".py",
   "mimetype": "text/x-python",
   "name": "python",
   "nbconvert_exporter": "python",
   "pygments_lexer": "ipython2",
   "version": "2.7.6"
  }
 },
 "nbformat": 4,
 "nbformat_minor": 0
}
